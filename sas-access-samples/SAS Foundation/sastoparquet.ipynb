{
 "cells": [
  {
   "cell_type": "code",
   "execution_count": 10,
   "metadata": {},
   "outputs": [],
   "source": [
    "import pandas as pd\n",
    "import glob\n",
    "import os"
   ]
  },
  {
   "cell_type": "code",
   "execution_count": 11,
   "metadata": {},
   "outputs": [],
   "source": [
    "\n",
    "def convert_sas_to_parquet(sas_file_path, parquet_file_path):\n",
    "    # Read the SAS file\n",
    "    df = pd.read_sas(sas_file_path, format='sas7bdat')   \n",
    "    # Convert the DataFrame to a Parquet file\n",
    "    df.to_parquet(parquet_file_path, index=False)"
   ]
  },
  {
   "cell_type": "code",
   "execution_count": 12,
   "metadata": {},
   "outputs": [],
   "source": [
    "# Source directory containing SAS dataset files\n",
    "source_directory = \"C:/Users/comma/Github/workspace/sas-access-samples/SAS Foundation/sasdataset/\"\n",
    "# Target directory for the Parquet files\n",
    "target_directory = \"C:/Users/comma/Github/workspace/sas-access-samples/SAS Foundation/parquetdataset/\"\n",
    "\n",
    "# Automatically find all SAS files in the source directory\n",
    "sas_file_paths = glob.glob(source_directory + \"*.sas7bdat\")\n",
    "\n",
    "for sas_file_path in sas_file_paths:\n",
    "    # Extract the base file name without the extension\n",
    "    base_file_name = os.path.basename(sas_file_path).replace('.sas7bdat', '')\n",
    "    # Generate the corresponding Parquet file path\n",
    "    parquet_file_path = os.path.join(target_directory, base_file_name + '.parquet')\n",
    "    # Convert the SAS file to Parquet\n",
    "    convert_sas_to_parquet(sas_file_path, parquet_file_path)\n"
   ]
  }
 ],
 "metadata": {
  "kernelspec": {
   "display_name": "Python 3",
   "language": "python",
   "name": "python3"
  },
  "language_info": {
   "codemirror_mode": {
    "name": "ipython",
    "version": 3
   },
   "file_extension": ".py",
   "mimetype": "text/x-python",
   "name": "python",
   "nbconvert_exporter": "python",
   "pygments_lexer": "ipython3",
   "version": "3.11.7"
  }
 },
 "nbformat": 4,
 "nbformat_minor": 2
}
